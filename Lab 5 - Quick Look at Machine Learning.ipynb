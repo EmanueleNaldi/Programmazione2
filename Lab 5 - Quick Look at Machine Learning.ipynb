{
 "cells": [
  {
   "cell_type": "markdown",
   "metadata": {},
   "source": [
    "# Predizione sul sesso dei maratoneti di Boston\n",
    "I dati si riferiscono alla maratona di Boston del 2016 e sono stati recuperato da [Kaggle](https://www.kaggle.com/rojour/boston-results)."
   ]
  },
  {
   "cell_type": "markdown",
   "metadata": {},
   "source": [
    "# Utilizzo della libreria Pandas\n",
    "La lettura e la manipolazione di dati risulta molto semplice usando la libreria [Pandas]().\n",
    "Gli oggetti principali di questa libreria sono:\n",
    "\n",
    "1. Le **Serie**\n",
    "2. I **DataFrame**\n",
    "\n",
    "Invece di dare prima una definizione formale di cosa sono, vediamo subito dei semplici esempio d'uso.\n",
    "\n",
    "Prima ancora, vediamo come leggere un semplice file .CSV in Python, che lo memorizza direttamente in un *dataFrame*.\n",
    "\n",
    "## Lettura dati da un file .CSV"
   ]
  },
  {
   "cell_type": "code",
   "execution_count": null,
   "metadata": {
    "collapsed": true
   },
   "outputs": [],
   "source": [
    "import pandas as pd"
   ]
  },
  {
   "cell_type": "code",
   "execution_count": null,
   "metadata": {
    "collapsed": false,
    "scrolled": true
   },
   "outputs": [],
   "source": [
    "# E` necessario convertire il tempo di gara in secondi, per poterlo confrontare nelle regressioni\n",
    "bm = pd.read_csv('./data/marathon_results_2016.csv')\n",
    "bm[:3]"
   ]
  },
  {
   "cell_type": "code",
   "execution_count": null,
   "metadata": {
    "collapsed": false
   },
   "outputs": [],
   "source": [
    "type(bm)"
   ]
  },
  {
   "cell_type": "code",
   "execution_count": null,
   "metadata": {
    "collapsed": false
   },
   "outputs": [],
   "source": [
    "bm[['Age', 'Official Time']][:3]"
   ]
  },
  {
   "cell_type": "code",
   "execution_count": null,
   "metadata": {
    "collapsed": false
   },
   "outputs": [],
   "source": [
    "bm.info()"
   ]
  },
  {
   "cell_type": "code",
   "execution_count": null,
   "metadata": {
    "collapsed": false
   },
   "outputs": [],
   "source": [
    "# Vorremmo predire il sesso (label) in base all'età e al tempo ufficiale (covariate)\n",
    "bm = bm[['Age', 'M/F', 'Official Time']]\n",
    "bm.info()"
   ]
  },
  {
   "cell_type": "code",
   "execution_count": null,
   "metadata": {
    "collapsed": false
   },
   "outputs": [],
   "source": [
    "ts = bm['Age']\n",
    "print(type(ts))\n",
    "print(ts[:4])"
   ]
  },
  {
   "cell_type": "code",
   "execution_count": null,
   "metadata": {
    "collapsed": false
   },
   "outputs": [],
   "source": [
    "def time_convert(x):\n",
    "    \"\"\" Converti una stringa dal formato hh:mm:ss in numero\n",
    "        in caso di dato non leggibile, restituire il numero 0\"\"\"\n",
    "    try:\n",
    "        # DA COMPLETARE\n",
    "        # QUANDO QUESTO METODO VIENE INVOCATO, x È UNA STRINGA\n",
    "    except:\n",
    "        return float('0.0')"
   ]
  },
  {
   "cell_type": "code",
   "execution_count": null,
   "metadata": {
    "collapsed": false
   },
   "outputs": [],
   "source": [
    "# E` necessario convertire il tempo di gara in secondi, per poterlo confrontare nelle regressioni\n",
    "bm = pd.read_csv('./data/marathon_results_2016.csv', converters={'Official Time': time_convert})\n",
    "bm[-10:]"
   ]
  },
  {
   "cell_type": "code",
   "execution_count": null,
   "metadata": {
    "collapsed": false
   },
   "outputs": [],
   "source": [
    "from sklearn.model_selection import train_test_split\n",
    "\n",
    "# Generate TRAINING e TEST sets\n",
    "x_train, x_test, y_train, y_test = train_test_split(bm[['Age', 'Official Time', '5K']], list(map(lambda x: int(x == 'M'), bm['M/F'])), random_state=0)"
   ]
  },
  {
   "cell_type": "code",
   "execution_count": null,
   "metadata": {
    "collapsed": false
   },
   "outputs": [],
   "source": [
    "x_train[:3]"
   ]
  },
  {
   "cell_type": "code",
   "execution_count": null,
   "metadata": {
    "collapsed": false
   },
   "outputs": [],
   "source": [
    "y_train[:3]"
   ]
  },
  {
   "cell_type": "markdown",
   "metadata": {},
   "source": [
    "## Analisi dei dati naive"
   ]
  },
  {
   "cell_type": "code",
   "execution_count": null,
   "metadata": {
    "collapsed": false
   },
   "outputs": [],
   "source": [
    "# Percentuale di uomini vs. donne che hanno concluso la gara\n",
    "n_male = sum(y_train)\n",
    "n_female = len(y_train) - n_male\n",
    "perc_male = round(100*n_male/(n_male+n_female), 2)\n",
    "perc_female = 100 - perc_male\n",
    "print(\"Uomini: \", n_male, \", \" , perc_male, \"% - Donne: \", n_female, \", \", perc_female, \"%\", sep='')"
   ]
  },
  {
   "cell_type": "code",
   "execution_count": null,
   "metadata": {
    "collapsed": false
   },
   "outputs": [],
   "source": [
    "def ConstantModel(Xs, Y):\n",
    "    # DA FARE: SCRIVERE UNA FUNZIONE CHE RESTITUISCA UNA FUNZIONE\n",
    "    #          CHE PER OGNI PREDIZIONE RICHIESTA, PREDICE SEMPRE \"male\"\n",
    "    pass\n",
    "\n",
    "# Test il modello costante\n",
    "LearnedModel = ConstantModel(x_train, y_train)\n",
    "y_pred = LearnedModel(x_test)\n",
    "# SI OSSERVINO LE MISURE FONDAMENTALI...\n",
    "from sklearn.metrics import mean_absolute_error, mean_squared_error, r2_score\n",
    "print(mean_absolute_error(y_test, y_pred), mean_squared_error(y_test, y_pred), r2_score(y_test, y_pred))\n",
    "# ... E LE ALTRE STATISTICHE VISTE A LEZIONE\n",
    "from sklearn.metrics import confusion_matrix, accuracy_score, classification_report\n",
    "print('ACCURACY:',accuracy_score(y_test, y_pred))\n",
    "print('REPORT:',classification_report(y_test, y_pred))\n",
    "print('Confusion Matrix:', confusion_matrix(y_test, y_pred))"
   ]
  },
  {
   "cell_type": "markdown",
   "metadata": {},
   "source": [
    "# Rappresentazioni grafiche con Seaborn"
   ]
  },
  {
   "cell_type": "code",
   "execution_count": null,
   "metadata": {
    "collapsed": true
   },
   "outputs": [],
   "source": [
    "import seaborn as sns"
   ]
  },
  {
   "cell_type": "code",
   "execution_count": null,
   "metadata": {
    "collapsed": false
   },
   "outputs": [],
   "source": [
    "sns.jointplot(data=bm, x='Age', y='5K', kind='reg', color='g')\n",
    "sns.plt.show()"
   ]
  },
  {
   "cell_type": "code",
   "execution_count": null,
   "metadata": {
    "collapsed": false
   },
   "outputs": [],
   "source": [
    "bm_female = bm[bm['M/F'] == 'F']\n",
    "sns.jointplot(data=bm_female, x='Age', y='5K', kind='reg', color='r')\n",
    "sns.plt.show()"
   ]
  },
  {
   "cell_type": "code",
   "execution_count": null,
   "metadata": {
    "collapsed": false,
    "scrolled": true
   },
   "outputs": [],
   "source": [
    "bm_male = bm[bm['M/F'] == 'M']\n",
    "sns.jointplot(data=bm_male, x='Age', y='5K', kind='reg', color='b')\n",
    "sns.plt.show()"
   ]
  },
  {
   "cell_type": "markdown",
   "metadata": {},
   "source": [
    "## Predizione tramite i *k* campioni più simili\n",
    "\n",
    "Per una rapida descrizione del metodo si rimanda alla documentazione ufficiale:\n",
    "\n",
    "1. Introduzione: [Nearest Neighbors](http://scikit-learn.org/stable/modules/neighbors.html) \n",
    "2. Metodo da usare: [KNeighborsClassifier](http://scikit-learn.org/stable/modules/generated/sklearn.neighbors.KNeighborsClassifier.html#sklearn.neighbors.KNeighborsClassifier)\n",
    "\n",
    "**IMPORTANTE:** Per imparare a programmare, si deve imparare a leggere e studiare la **DOCUMENTAZIONE** delle librerie che si utilizzano!\n",
    "\n",
    "**ESERCIZIO 1:** Provare il classificatore seguente provando a cambiare il numero di vicini utilizzati (parametro `n_neighbors`). Provare a usare due algoritmi diversi: `ball_tree` e `kd_tree` (leggere la documentazione per capire come fare). Commentare la differenza di risultati ottenuti con i due metodi."
   ]
  },
  {
   "cell_type": "code",
   "execution_count": null,
   "metadata": {
    "collapsed": false
   },
   "outputs": [],
   "source": [
    "from sklearn import neighbors\n",
    "knn = neighbors.KNeighborsClassifier(n_neighbors=5)\n",
    "# Input to this function must be \"DataFrames\"\n",
    "knn.fit(x_train, y_train)"
   ]
  },
  {
   "cell_type": "code",
   "execution_count": null,
   "metadata": {
    "collapsed": false
   },
   "outputs": [],
   "source": [
    "y_pred = knn.predict(x_test)\n",
    "print(mean_absolute_error(y_test, y_pred), mean_squared_error(y_test, y_pred), r2_score(y_test, y_pred))"
   ]
  },
  {
   "cell_type": "code",
   "execution_count": null,
   "metadata": {
    "collapsed": false
   },
   "outputs": [],
   "source": [
    "from sklearn.metrics import confusion_matrix, accuracy_score, classification_report\n",
    "print('ACCURACY:',accuracy_score(y_test, y_pred))\n",
    "print('REPORT:',classification_report(y_test, y_pred))\n",
    "print('Confusion Matrix:', confusion_matrix(y_test, y_pred))"
   ]
  },
  {
   "cell_type": "markdown",
   "metadata": {},
   "source": [
    "## Predizione con Regressione Lineare\n",
    "Per un semplice esempio di come eseguire una regressione lineare con SciKit Learn, consultare l'esempio seguente sulla [predizione del diabete](http://scikit-learn.org/stable/tutorial/statistical_inference/supervised_learning.html)\n",
    "\n",
    "**ESERCIZIO 2:** Usando la libreria SciKit, implementare una semplice regressione lineare per classificare il sesso di un corridore in base ad alcune delle sue covariate. **CONFRONTARE** le statistiche di base con il predittore \"costante\" e quello ottenuto tramite il metodo dei \"k\" campioni più simili (il `KNeighborsClassifier` usato sopra)."
   ]
  },
  {
   "cell_type": "code",
   "execution_count": null,
   "metadata": {
    "collapsed": true
   },
   "outputs": [],
   "source": []
  }
 ],
 "metadata": {
  "kernelspec": {
   "display_name": "Python [default]",
   "language": "python",
   "name": "python3"
  },
  "language_info": {
   "codemirror_mode": {
    "name": "ipython",
    "version": 3
   },
   "file_extension": ".py",
   "mimetype": "text/x-python",
   "name": "python",
   "nbconvert_exporter": "python",
   "pygments_lexer": "ipython3",
   "version": "3.5.2"
  }
 },
 "nbformat": 4,
 "nbformat_minor": 2
}
