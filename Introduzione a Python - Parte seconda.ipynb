{
 "cells": [
  {
   "cell_type": "markdown",
   "metadata": {},
   "source": [
    "**NOTA**: si consiglia di eseguire una riga alla volta di questo notebook, come fatto a lezione, cercando di capire sia cosa fa ciascuna funzione, sia soprattutto cercando di capire gli eventuali messaggi di errore."
   ]
  },
  {
   "cell_type": "markdown",
   "metadata": {},
   "source": [
    "# Funzioni Scalari\n",
    "\n",
    "Supponiamo ora di dover scrivere una funzione scalare:\n",
    "\n",
    "$$ f : \\mathbb{R}^n \\rightarrow \\mathbb{R}$$\n",
    "\n",
    "Usiamo una lista di numeri per scrivere un vettore di $\\mathbb{R}^n$, e scriviamo le seguenti funzioni:\n",
    "\n",
    "1. $\\quad f(\\vec{x}) = n$\n",
    "\n",
    "2. $\\quad f(\\vec{x}) = \\sum_{i \\in \\{1,\\dots,n\\}} x_i$\n",
    "\n",
    "3. $\\quad f(\\vec{x}) = \\sum_{i \\in \\{1,\\dots,n\\}} x_i^2$\n",
    "    \n",
    "4. $\\quad f(\\vec{x}) = \\min_{i\\in \\{1,\\dots,n\\}} x_i$\n",
    "\n",
    "5. $\\quad f(\\vec{x}) = \\sum_{i \\in \\{1,\\dots,n\\}} g(x_i)$, dove $g : \\mathbb{R} \\rightarrow \\mathbb{R}$\n",
    "\n",
    "Costruiamo prima un vettore di numeri interi *pseudo* casuali, con distribuzione uniforme in [1,10]."
   ]
  },
  {
   "cell_type": "code",
   "execution_count": null,
   "metadata": {
    "collapsed": false
   },
   "outputs": [],
   "source": [
    "from random import randint\n",
    "help(randint)"
   ]
  },
  {
   "cell_type": "code",
   "execution_count": null,
   "metadata": {
    "collapsed": true
   },
   "outputs": [],
   "source": [
    "As = [randint(1,10) for _ in range(10)]"
   ]
  },
  {
   "cell_type": "code",
   "execution_count": null,
   "metadata": {
    "collapsed": false
   },
   "outputs": [],
   "source": [
    "print(As)"
   ]
  },
  {
   "cell_type": "markdown",
   "metadata": {},
   "source": [
    "È possibile inizializzare un generatore di numeri pseudo casuali con la funzione `seed` della libreria `random`."
   ]
  },
  {
   "cell_type": "code",
   "execution_count": null,
   "metadata": {
    "collapsed": false
   },
   "outputs": [],
   "source": [
    "from random import seed\n",
    "for _ in range(10):\n",
    "    seed(13)\n",
    "    print(randint(1,10))"
   ]
  },
  {
   "cell_type": "markdown",
   "metadata": {},
   "source": [
    "Ora che abbiamo definito una lista di numeri casuali, veniamo ora alla prima delle funzioni richieste sopra."
   ]
  },
  {
   "cell_type": "code",
   "execution_count": null,
   "metadata": {
    "collapsed": false
   },
   "outputs": [],
   "source": [
    "# La prima funzione la chiamiamo `LunghezzaLista`\n",
    "def LunghezzaLista(Xs):\n",
    "    \"\"\"\n",
    "    Calcola e restituisce il numero di elementi nella lista Xs.\n",
    "    \"\"\"\n",
    "    # Itera la lista e conta il numero di suoi elementi\n",
    "    n = 0\n",
    "    for x in Xs:\n",
    "        n += 1\n",
    "    return n\n",
    "\n",
    "# Esempio di esecuzione\n",
    "print(As)\n",
    "LunghezzaLista(As)"
   ]
  },
  {
   "cell_type": "markdown",
   "metadata": {},
   "source": [
    "**NOTA**: Python ha un sistema di tipi dinamico. Cosa succede quindi se utilizzo una funzione passandogli dei parametri non previsti?"
   ]
  },
  {
   "cell_type": "code",
   "execution_count": null,
   "metadata": {
    "collapsed": false
   },
   "outputs": [],
   "source": [
    "LunghezzaLista(3)"
   ]
  },
  {
   "cell_type": "code",
   "execution_count": null,
   "metadata": {
    "collapsed": false
   },
   "outputs": [],
   "source": [
    "# La prima funzione la chiamiamo `LunghezzaLista`\n",
    "def LunghezzaLista(Xs):\n",
    "    \"\"\"\n",
    "    Calcola e restituisce il numero di elementi nella lista Xs.\n",
    "    \"\"\"\n",
    "    # Controlla il tipo dell'argomento\n",
    "    if type(Xs) != list:\n",
    "        raise TypeError('Ueh, pirla! LunghezzaLista(Xs): La variabile di input Xs non e` una lista.')\n",
    "        \n",
    "    # Itera la lista e conta il numero di suoi elementi\n",
    "    n = 0\n",
    "    for x in Xs:\n",
    "        n += 1\n",
    "    return n"
   ]
  },
  {
   "cell_type": "code",
   "execution_count": null,
   "metadata": {
    "collapsed": false
   },
   "outputs": [],
   "source": [
    "LunghezzaLista(3)"
   ]
  },
  {
   "cell_type": "markdown",
   "metadata": {},
   "source": [
    "**IMPORTANTE**: Determinare la lunghezza di una lista ha talmente importanza che esiste la funzione builtin `len()`"
   ]
  },
  {
   "cell_type": "code",
   "execution_count": null,
   "metadata": {
    "collapsed": false
   },
   "outputs": [],
   "source": [
    "len(As)"
   ]
  },
  {
   "cell_type": "code",
   "execution_count": null,
   "metadata": {
    "collapsed": false
   },
   "outputs": [],
   "source": [
    "help(list)"
   ]
  },
  {
   "cell_type": "code",
   "execution_count": null,
   "metadata": {
    "collapsed": false
   },
   "outputs": [],
   "source": [
    "# La seconda funzione la chiamiamo `SommaComponenti`\n",
    "def SommaComponenti(Xs):\n",
    "    \"\"\"\n",
    "    Calcola e restituisce il somma degli elementi nella lista Xs.\n",
    "    \"\"\"\n",
    "    # Controlla il tipo dell'argomento\n",
    "    if type(Xs) != list:\n",
    "        raise TypeError('SommaComponenti(Xs): La variabile di input Xs non e` una lista.')\n",
    "        \n",
    "    # Itera la lista e conta il numero di suoi elementi\n",
    "    somma = 0\n",
    "    for x in Xs:\n",
    "        somma = somma + x  # Oppure: somma += x\n",
    "    return somma"
   ]
  },
  {
   "cell_type": "code",
   "execution_count": null,
   "metadata": {
    "collapsed": false
   },
   "outputs": [],
   "source": [
    "SommaComponenti(As)"
   ]
  },
  {
   "cell_type": "code",
   "execution_count": null,
   "metadata": {
    "collapsed": false
   },
   "outputs": [],
   "source": [
    "# La terza funzione la chiamiamo `SommaQuadrati`\n",
    "def SommaQuadrati(Xs):\n",
    "    \"\"\"\n",
    "    Calcola e restituisce il somma delle potenze quadrate dei singoli elementi nella lista Xs.\n",
    "    \"\"\"\n",
    "    # Controlla il tipo dell'argomento\n",
    "    if type(Xs) != list:\n",
    "        raise TypeError('SommaComponenti(Xs): La variabile di input Xs non e` una lista.')\n",
    "        \n",
    "    # Itera la lista e conta il numero di suoi elementi\n",
    "    somma = 0\n",
    "    for x in Xs:\n",
    "        somma += x**2\n",
    "    return somma"
   ]
  },
  {
   "cell_type": "code",
   "execution_count": null,
   "metadata": {
    "collapsed": false
   },
   "outputs": [],
   "source": [
    "SommaQuadrati(As)"
   ]
  },
  {
   "cell_type": "code",
   "execution_count": null,
   "metadata": {
    "collapsed": false
   },
   "outputs": [],
   "source": [
    "# La quinta funzione la chiamiamo ElementoMinimo\n",
    "def ElementoMinimo(Xs):\n",
    "    \"\"\"\n",
    "    Trova l'elemento di valore minimo nella lista Xs\n",
    "    \"\"\"\n",
    "    minimo = Xs[0]\n",
    "    for x in Xs:\n",
    "        if x < minimo:\n",
    "            minimo = x\n",
    "    return minimo\n",
    "\n",
    "print(As)\n",
    "print(\"minimo:\", ElementoMinimo(As))\n",
    "As.append(-3)\n",
    "print(As)\n",
    "print(\"minimo:\", ElementoMinimo(As))"
   ]
  },
  {
   "cell_type": "code",
   "execution_count": null,
   "metadata": {
    "collapsed": false
   },
   "outputs": [],
   "source": [
    "# La quarta funzione la chiamiamo `SommaFunzioni`\n",
    "def SommaFunzioni(Xs, G=lambda x: x**2):\n",
    "    \"\"\"\n",
    "    Calcola e restituisce il somma delle funzioni G(x) applicata ai singoli elementi nella lista Xs.\n",
    "    \"\"\"\n",
    "    # Controlla il tipo dell'argomento\n",
    "    if type(Xs) != list:\n",
    "        raise TypeError('SommaComponenti(Xs): La prima variabile di input Xs non e` una lista.')\n",
    "        \n",
    "    # Itera la lista e somma G(x) applicata ai suoi elementi\n",
    "    somma = 0\n",
    "    for x in Xs:\n",
    "        somma += G(x)\n",
    "    return somma"
   ]
  },
  {
   "cell_type": "code",
   "execution_count": null,
   "metadata": {
    "collapsed": false
   },
   "outputs": [],
   "source": [
    "SommaFunzioni(As)"
   ]
  },
  {
   "cell_type": "code",
   "execution_count": null,
   "metadata": {
    "collapsed": false
   },
   "outputs": [],
   "source": [
    "def G(x):\n",
    "    return x**3"
   ]
  },
  {
   "cell_type": "code",
   "execution_count": null,
   "metadata": {
    "collapsed": false
   },
   "outputs": [],
   "source": [
    "SommaFunzioni(As, G)"
   ]
  },
  {
   "cell_type": "code",
   "execution_count": null,
   "metadata": {
    "collapsed": false
   },
   "outputs": [],
   "source": [
    "import math\n",
    "SommaFunzioni(As, math.sin)"
   ]
  },
  {
   "cell_type": "markdown",
   "metadata": {},
   "source": [
    "# Altri esempi di funzioni\n",
    "Supponiamo ora di voler scrivere funzioni vettoriali del tipo:\n",
    "\n",
    "$$f : \\mathbb{R}^n \\rightarrow \\mathbb{R}^m$$\n",
    "\n",
    "come ad esempio:\n",
    "\n",
    "1. $f(x) = \\left(0, \\dots, x-1 \\right)$, con $x \\in \\mathbb{Z}, x \\geq 0$\n",
    "\n",
    "2. $f(\\vec{x}) = \\left(\\min_{i\\in \\{1,\\dots,n\\}} x_i, \\max_{i\\in \\{1,\\dots,n\\}} x_i\\right)$\n",
    "\n",
    "3. $f(\\vec{x}) = \\left(x_1^3, \\dots, x_n^3\\right)$, con $x \\in \\mathbb{R}^n$"
   ]
  },
  {
   "cell_type": "code",
   "execution_count": null,
   "metadata": {
    "collapsed": false
   },
   "outputs": [],
   "source": [
    "# La prima funzione la chiamiamo Range\n",
    "def Range(n):\n",
    "    \"\"\"\n",
    "    Construisce e ritorna la lista (0, ..., n-1)\n",
    "    \"\"\"\n",
    "    Ls = []\n",
    "    i = 0\n",
    "    while i < n:\n",
    "        Ls.append(i)\n",
    "        i += 1\n",
    "    return Ls\n",
    "\n",
    "print(\"Esempio di chiamata: Range(4) =\", Range(4))"
   ]
  },
  {
   "cell_type": "markdown",
   "metadata": {},
   "source": [
    "**NOTA:** Anche in questo caso esiste una funzione *built-in* di python chiamata `range()`.\n",
    "Leggere con l'help in linea la documentazione di `range()`."
   ]
  },
  {
   "cell_type": "code",
   "execution_count": null,
   "metadata": {
    "collapsed": false
   },
   "outputs": [],
   "source": [
    "# help(range)"
   ]
  },
  {
   "cell_type": "code",
   "execution_count": null,
   "metadata": {
    "collapsed": false
   },
   "outputs": [],
   "source": [
    "Ls = range(-10,10,2)\n",
    "print(Ls)"
   ]
  },
  {
   "cell_type": "markdown",
   "metadata": {},
   "source": [
    "In Python 3.x la creazione di liste viene eseguita in maniera `lazy`, ovvero la lista non viene effettivamente creata sino a quando non si itera sui suoi elementi. Questo può essere fatto in due modi:"
   ]
  },
  {
   "cell_type": "code",
   "execution_count": null,
   "metadata": {
    "collapsed": false
   },
   "outputs": [],
   "source": [
    "[i for i in Ls]"
   ]
  },
  {
   "cell_type": "code",
   "execution_count": null,
   "metadata": {
    "collapsed": false
   },
   "outputs": [],
   "source": [
    "list(Ls)"
   ]
  },
  {
   "cell_type": "code",
   "execution_count": null,
   "metadata": {
    "collapsed": false
   },
   "outputs": [],
   "source": [
    "# La seconda funzione la chiamiamo MinMaxElement\n",
    "def MinMaxElement(Xs):\n",
    "    minimo = Xs[0]\n",
    "    massimo = minimo\n",
    "    for x in Xs:\n",
    "        if x < minimo:\n",
    "            minimo = x\n",
    "        if x > massimo:\n",
    "            massimo = x\n",
    "    return [minimo, massimo]\n",
    "\n",
    "print(\"As =\",As)\n",
    "print(\"Esempio di chiamata: MinMaxElement(As) =\", MinMaxElement(As))\n",
    "r = MinMaxElement(As)\n",
    "print(\"minimo =\", r[0], \"| massimo =\", r[1])"
   ]
  },
  {
   "cell_type": "code",
   "execution_count": null,
   "metadata": {
    "collapsed": true
   },
   "outputs": [],
   "source": [
    "def Potenza(base, esponente=2):\n",
    "    \"\"\"\n",
    "    Calcola la potenza (base)^(esponente).\n",
    "    Se il secondo parametro non viene passato,\n",
    "    calcola la potenza quadrata, ovvero (esponente=2).\n",
    "    \"\"\"\n",
    "    \n",
    "    return base**esponente"
   ]
  },
  {
   "cell_type": "code",
   "execution_count": null,
   "metadata": {
    "collapsed": false
   },
   "outputs": [],
   "source": [
    "# La terza funziona la chiamiamo semplicemene H,\n",
    "# ed usiamo la funzione Potenza(base, esponente) per calcolare il cubo\n",
    "def H(Xs):\n",
    "    Ls = []\n",
    "    for x in Xs:\n",
    "        Ls += [Potenza(x, 3)]\n",
    "    return Ls\n",
    "\n",
    "print(\"Esempio di chiamata: H([2,3,1]) =\", H([2,3,1]))"
   ]
  },
  {
   "cell_type": "markdown",
   "metadata": {},
   "source": [
    "**NOTA:** L'operatore di addizione tra liste, aggiunge tutti gli elementi della seconda lista alla prima lista. Esempio:"
   ]
  },
  {
   "cell_type": "code",
   "execution_count": null,
   "metadata": {
    "collapsed": false
   },
   "outputs": [],
   "source": [
    "[3,2,6]+[3,1,9]"
   ]
  },
  {
   "cell_type": "markdown",
   "metadata": {},
   "source": [
    "### *Overloading* di un operatore\n",
    "Un operatore può assumere un significativo diverso in base agli operandi a cui viene applicato. Per esempio:\n",
    "\n",
    "L'operatore **+** : \n",
    "1. tra interi, floats, e numeri complessi esegue l'addizione\n",
    "2. tra liste, effettua la concatenazione\n",
    "\n",
    "L'operatore **`*`** : \n",
    "1. tra interi, floats, e numeri complessi esegue la moltiplicazione\n",
    "2. tra un intero e una stringa: **PROVARE** (viene chiamato operatore di \"repetition\")"
   ]
  },
  {
   "cell_type": "code",
   "execution_count": null,
   "metadata": {
    "collapsed": false
   },
   "outputs": [],
   "source": [
    "\" coding is fun! \"*3"
   ]
  },
  {
   "cell_type": "markdown",
   "metadata": {},
   "source": [
    "# Rappresentazione grafica di funzioni scalari\n",
    "\n",
    "Con i notebook di python si possono facilmente rappresentare graficamente le funzioni scalari.\n",
    "\n",
    "Per poterlo fare si utilizza la libreria [Matplotlib](http://matplotlib.org/), che si ispira al `plot` di Matlab.\n",
    "\n",
    "Per potere usare quella libreria la si deve \"*importare*\" con il comando seguente:"
   ]
  },
  {
   "cell_type": "code",
   "execution_count": null,
   "metadata": {
    "collapsed": false
   },
   "outputs": [],
   "source": [
    "from matplotlib.pyplot import *\n",
    "%matplotlib inline  "
   ]
  },
  {
   "cell_type": "code",
   "execution_count": null,
   "metadata": {
    "collapsed": true
   },
   "outputs": [],
   "source": [
    "%matplotlib inline\n",
    "import matplotlib.pyplot as pyplot\n",
    "# Per disegnare un singolo punto\n",
    "pyplot.plot([1],[1], 'ro')"
   ]
  },
  {
   "cell_type": "code",
   "execution_count": null,
   "metadata": {
    "collapsed": true
   },
   "outputs": [],
   "source": [
    "# Per disegnare un singolo punto\n",
    "pyplot.plot([1,2],[2,1], 'b')\n",
    "pyplot.plot([1],[2], 'ro')\n",
    "pyplot.plot([2],[1], 'ro')"
   ]
  },
  {
   "cell_type": "code",
   "execution_count": null,
   "metadata": {
    "collapsed": true
   },
   "outputs": [],
   "source": [
    "Xs = range(-100,100)\n",
    "Ys = list(map(lambda x: math.sin(0.1*x), Xs))\n",
    "pyplot.plot(Xs, Ys, 'r')"
   ]
  },
  {
   "cell_type": "markdown",
   "metadata": {},
   "source": [
    "A questo punto possiamo rappresentare la funzione $f(x)=x^3$ nel modo seguente:"
   ]
  },
  {
   "cell_type": "code",
   "execution_count": null,
   "metadata": {
    "collapsed": false
   },
   "outputs": [],
   "source": [
    "#%matplotlib inline # Da usare sono una volta\n",
    "X = range(-10, 11)\n",
    "Y = H(X)\n",
    "plot(X,Y)\n",
    "title(\"Esempio di $f(x)=x^3$, con $-10 \\leq x \\leq 10$\")"
   ]
  },
  {
   "cell_type": "markdown",
   "metadata": {},
   "source": [
    "Importando la libreria `math` si hanno a disposizione tutta una serie di funzioni standard, tra cui:\n",
    "`pow(x,y)`, `sin(x)`, `cos(x)`, `tan(x)`, `exp(x)`, `log(x, base)`\n",
    "che possono essere *disegnate* come segue:"
   ]
  },
  {
   "cell_type": "code",
   "execution_count": null,
   "metadata": {
    "collapsed": false
   },
   "outputs": [],
   "source": [
    "import math\n",
    "X = [0.05*x for x in range(-62,62)]\n",
    "Y = [math.sin(x) for x in X]\n",
    "plot(X, Y)"
   ]
  },
  {
   "cell_type": "markdown",
   "metadata": {},
   "source": [
    "## Altri tipi di plot utili\n",
    "Per maggiori informazioni guardare le [demo di Matplotlib](http://matplotlib.org/gallery.html)."
   ]
  },
  {
   "cell_type": "code",
   "execution_count": null,
   "metadata": {
    "collapsed": true
   },
   "outputs": [],
   "source": [
    "# ESEMPIO PRESO DA: http://matplotlib.org/examples/statistics/histogram_demo_cumulative.html\n",
    "import numpy as np\n",
    "import matplotlib.pyplot as plt\n",
    "from matplotlib import mlab\n",
    "\n",
    "np.random.seed(0)\n",
    "andom.normal(mu, sigma, size=100)\n",
    "\n",
    "fig, ax = plt.subplots(figsize=(8, 4))\n",
    "\n",
    "# plot the cumulative histogram\n",
    "n, bins, patches = ax.hist(x, n_bins, normed=1, histtype='step',\n",
    "                           cumulative=True, label='Empirica')\n",
    "\n",
    "# Add a line showing the expected distribution.\n",
    "y = mlab.normpdf(bins, mu, sigma).cumsum()\n",
    "y /= y[-1]\n",
    "\n",
    "ax.plot(bins, y, 'k--', linewidth=1.5, label='Teorica')\n",
    "\n",
    "# tidy up the figure\n",
    "ax.grid(True)\n",
    "ax.legend(loc='right')\n",
    "ax.set_title('Cumulative step histograms')\n",
    "ax.set_xlabel('Annual rainfall (mm)')\n",
    "ax.set_ylabel('Likelihood of occurrence')\n",
    "\n",
    "plt.show()\n",
    "mu = 200\n",
    "sigma = 25\n",
    "n_bins = 50\n",
    "x = np.r"
   ]
  },
  {
   "cell_type": "code",
   "execution_count": null,
   "metadata": {
    "collapsed": true
   },
   "outputs": [],
   "source": [
    "# ESEMPIO PRESO DA: http://matplotlib.org/examples/statistics/histogram_demo_features.html\n",
    "import numpy as np\n",
    "import matplotlib.mlab as mlab\n",
    "import matplotlib.pyplot as plt\n",
    "\n",
    "np.random.seed(0)\n",
    "\n",
    "# example data\n",
    "mu = 100  # mean of distribution\n",
    "sigma = 15  # standard deviation of distribution\n",
    "x = mu + sigma * np.random.randn(437)\n",
    "\n",
    "num_bins = 50\n",
    "\n",
    "fig, ax = plt.subplots()\n",
    "\n",
    "# the histogram of the data\n",
    "n, bins, patches = ax.hist(x, num_bins, normed=1)\n",
    "\n",
    "# add a 'best fit' line\n",
    "y = mlab.normpdf(bins, mu, sigma)\n",
    "ax.plot(bins, y, '--')\n",
    "ax.set_xlabel('Smarts')\n",
    "ax.set_ylabel('Probability density')\n",
    "ax.set_title(r'Histogram of IQ: $\\mu=100$, $\\sigma=15$')\n",
    "\n",
    "# Tweak spacing to prevent clipping of ylabel\n",
    "fig.tight_layout()\n",
    "plt.show()"
   ]
  }
 ],
 "metadata": {
  "kernelspec": {
   "display_name": "Python [default]",
   "language": "python",
   "name": "python3"
  },
  "language_info": {
   "codemirror_mode": {
    "name": "ipython",
    "version": 3
   },
   "file_extension": ".py",
   "mimetype": "text/x-python",
   "name": "python",
   "nbconvert_exporter": "python",
   "pygments_lexer": "ipython3",
   "version": "3.5.2"
  }
 },
 "nbformat": 4,
 "nbformat_minor": 0
}
