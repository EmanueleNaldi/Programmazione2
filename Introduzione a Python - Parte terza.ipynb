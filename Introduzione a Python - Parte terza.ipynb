{
 "cells": [
  {
   "cell_type": "markdown",
   "metadata": {},
   "source": [
    "# Tuple, Dizionari, Stringhe e Oggetti\n",
    "Abbiamo visto come con python possiamo definire semplicemente dei **numeri** (interi, decimali, complessi), delle **liste** di elementi (che possiamo usare per rappresentare dei vettori) e delle **funzioni**.\n",
    "\n",
    "Ci restano da vedere molto velocemente:\n",
    "\n",
    "1. Le **tuple**\n",
    "2. I **dictionary**\n",
    "3. Le **stringhe**\n",
    "4. Gli **oggetti**\n",
    "\n",
    "Le vediamo brevemente direttamente nel workspace."
   ]
  },
  {
   "cell_type": "markdown",
   "metadata": {},
   "source": [
    "## Tuple\n",
    "Le liste sono sequenze di elementi che non possono essere modificati.\n",
    "Diversamente dalle liste, da una tupla non si possono rimuovere o aggiungere elementi: è un oggetto di tipo *read only* (come Complex).\n",
    "    "
   ]
  },
  {
   "cell_type": "code",
   "execution_count": 1,
   "metadata": {
    "collapsed": false
   },
   "outputs": [
    {
     "name": "stdout",
     "output_type": "stream",
     "text": [
      "<class 'tuple'>\n"
     ]
    }
   ],
   "source": [
    "x=2,4\n",
    "print(type(x))"
   ]
  },
  {
   "cell_type": "code",
   "execution_count": 2,
   "metadata": {
    "collapsed": false
   },
   "outputs": [
    {
     "name": "stdout",
     "output_type": "stream",
     "text": [
      "(2, 4) 2 4\n"
     ]
    }
   ],
   "source": [
    "print(x, x[0], x[1])"
   ]
  },
  {
   "cell_type": "code",
   "execution_count": 4,
   "metadata": {
    "collapsed": false
   },
   "outputs": [
    {
     "ename": "TypeError",
     "evalue": "'tuple' object does not support item assignment",
     "output_type": "error",
     "traceback": [
      "\u001b[0;31m---------------------------------------------------------------------------\u001b[0m",
      "\u001b[0;31mTypeError\u001b[0m                                 Traceback (most recent call last)",
      "\u001b[0;32m<ipython-input-4-8bd4ab5de731>\u001b[0m in \u001b[0;36m<module>\u001b[0;34m()\u001b[0m\n\u001b[0;32m----> 1\u001b[0;31m \u001b[0mx\u001b[0m\u001b[1;33m[\u001b[0m\u001b[1;36m1\u001b[0m\u001b[1;33m]\u001b[0m \u001b[1;33m=\u001b[0m \u001b[1;36m4\u001b[0m\u001b[1;33m\u001b[0m\u001b[0m\n\u001b[0m",
      "\u001b[0;31mTypeError\u001b[0m: 'tuple' object does not support item assignment"
     ]
    }
   ],
   "source": [
    "x[1] = 4"
   ]
  },
  {
   "cell_type": "code",
   "execution_count": 10,
   "metadata": {
    "collapsed": true
   },
   "outputs": [],
   "source": [
    "a,b = 2,4"
   ]
  },
  {
   "cell_type": "code",
   "execution_count": 11,
   "metadata": {
    "collapsed": true
   },
   "outputs": [],
   "source": [
    "a,b = b,a"
   ]
  },
  {
   "cell_type": "code",
   "execution_count": 12,
   "metadata": {
    "collapsed": false
   },
   "outputs": [
    {
     "name": "stdout",
     "output_type": "stream",
     "text": [
      "4 2\n"
     ]
    }
   ],
   "source": [
    "print(a,b)"
   ]
  },
  {
   "cell_type": "markdown",
   "metadata": {},
   "source": [
    "## Dizionari\n",
    "I dizionari sono una struttura dati molto utilizzati in python, e corrispondono a delle liste di coppie **(key, value)**.\n",
    "\n",
    "La **key** viene utilizzata come chiave per indicizzare un **value**. Per esempio:\n",
    "\n",
    "`Dict[\"hello\"] = \"ciao\"`\n",
    "\n",
    "Abbiamo la chiave \"hello\" utilizzata per indicizzare l'elemento \"ciao\" nel dizionario Dict. Per semplicita', potete pensare ai dizionari a come dei vettori dei elementi indicizzati da altri oggetti, come ad esempio delle stringhe.\n",
    "\n",
    "Esempio:"
   ]
  },
  {
   "cell_type": "code",
   "execution_count": 13,
   "metadata": {
    "collapsed": false
   },
   "outputs": [
    {
     "name": "stdout",
     "output_type": "stream",
     "text": [
      "<class 'dict'>\n"
     ]
    }
   ],
   "source": [
    "# Creo un dizionario vuoto\n",
    "Vocabolario = dict()\n",
    "print(type(Vocabolario))"
   ]
  },
  {
   "cell_type": "code",
   "execution_count": 14,
   "metadata": {
    "collapsed": false
   },
   "outputs": [
    {
     "name": "stdout",
     "output_type": "stream",
     "text": [
      "Enrico, stai sereno\n"
     ]
    }
   ],
   "source": [
    "Vocabolario[\"keep\"] = \"stai\"\n",
    "Vocabolario[\"calm\"] = \"sereno\"\n",
    "print(\"Enrico,\", Vocabolario[\"keep\"], Vocabolario[\"calm\"])"
   ]
  },
  {
   "cell_type": "code",
   "execution_count": 15,
   "metadata": {
    "collapsed": false
   },
   "outputs": [
    {
     "name": "stdout",
     "output_type": "stream",
     "text": [
      "chiave: keep - valore: stai\n",
      "chiave: calm - valore: sereno\n",
      "chiave: hello - valore: ciao\n"
     ]
    }
   ],
   "source": [
    "# E` possibile enumerare i dizionari con un ciclo for\n",
    "Vocabolario[\"hello\"] = \"ciao\"\n",
    "for key in Vocabolario:\n",
    "    print(\"chiave:\",key, \"- valore:\",Vocabolario[key])"
   ]
  },
  {
   "cell_type": "markdown",
   "metadata": {},
   "source": [
    "## Stringhe\n",
    "\n",
    "Le stringhe non sono altro che delle liste di caratteri (con un implementazione built-in molto efficiente). Anche le stringhe sono degli oggetti di tipo *read only*.\n",
    "\n",
    "Per vedere alcuni metodi utili sulle funzioni, ricordarsi di usare il **tab** destro per l'autocompletion dopo il nome+punto di una variabile:\n",
    "\n",
    "`commento. '+' <tab>`\n",
    "\n",
    "Esempio:"
   ]
  },
  {
   "cell_type": "code",
   "execution_count": 20,
   "metadata": {
    "collapsed": false
   },
   "outputs": [
    {
     "name": "stdout",
     "output_type": "stream",
     "text": [
      "E N R I C O ,   S T A I   S E R E N O "
     ]
    }
   ],
   "source": [
    "commento = \"Enrico, stai sereno\"\n",
    "for c in commento:\n",
    "    print(c.upper(), end=' ')"
   ]
  },
  {
   "cell_type": "code",
   "execution_count": 17,
   "metadata": {
    "collapsed": false
   },
   "outputs": [
    {
     "name": "stdout",
     "output_type": "stream",
     "text": [
      "i o\n"
     ]
    }
   ],
   "source": [
    "print(commento[3], commento[-1])"
   ]
  },
  {
   "cell_type": "code",
   "execution_count": null,
   "metadata": {
    "collapsed": false
   },
   "outputs": [],
   "source": [
    "print(commento.lower())"
   ]
  },
  {
   "cell_type": "code",
   "execution_count": null,
   "metadata": {
    "collapsed": false
   },
   "outputs": [],
   "source": [
    "print(commento.upper())"
   ]
  },
  {
   "cell_type": "markdown",
   "metadata": {},
   "source": [
    "Da notare che la funzione `upper` non ha modifcato la stringa `commento`, ma ha restituito una nuova lista con tutte le lettere maiuscole. La maggior parte delle funzioni standard di python che opera sulle stringhe operano in questo modo. Per maggiori dettagli, potete sempre consultare `help(str)`."
   ]
  },
  {
   "cell_type": "code",
   "execution_count": null,
   "metadata": {
    "collapsed": false
   },
   "outputs": [],
   "source": [
    "commento"
   ]
  },
  {
   "cell_type": "markdown",
   "metadata": {},
   "source": [
    "## Classi e Oggetti\n",
    "\n",
    "Il piu' semplice esempio di built-in oggetto in python e' il tipo `complex`:\n",
    "\n",
    "`x = 1+3j`\n",
    "\n",
    "In questo caso \n",
    "\n"
   ]
  },
  {
   "cell_type": "code",
   "execution_count": null,
   "metadata": {
    "collapsed": false
   },
   "outputs": [],
   "source": [
    "class MyComplex:\n",
    "    \n",
    "    def __init__(self, Real, Img):\n",
    "        self.real = Real\n",
    "        self.img = Img\n",
    "        \n",
    "    def __str__(self):\n",
    "        s = str(self.real)\n",
    "        if self.img >= 0:\n",
    "            s += '+'\n",
    "        s += str(self.img)+'j'\n",
    "        return s\n",
    "    \n",
    "    def coniugate(self):\n",
    "        return MyComplex(self.real, -self.img)\n",
    "    \n"
   ]
  },
  {
   "cell_type": "code",
   "execution_count": null,
   "metadata": {
    "collapsed": false
   },
   "outputs": [],
   "source": [
    "c = MyComplex(1,4)"
   ]
  },
  {
   "cell_type": "code",
   "execution_count": null,
   "metadata": {
    "collapsed": false
   },
   "outputs": [],
   "source": [
    "print(c)"
   ]
  },
  {
   "cell_type": "code",
   "execution_count": null,
   "metadata": {
    "collapsed": false
   },
   "outputs": [],
   "source": [
    "print(c.coniugate())"
   ]
  },
  {
   "cell_type": "code",
   "execution_count": null,
   "metadata": {
    "collapsed": false
   },
   "outputs": [],
   "source": [
    "c.img"
   ]
  },
  {
   "cell_type": "code",
   "execution_count": null,
   "metadata": {
    "collapsed": false
   },
   "outputs": [],
   "source": [
    "type(c)"
   ]
  },
  {
   "cell_type": "markdown",
   "metadata": {
    "collapsed": false
   },
   "source": [
    "# Lettura di file di testo\n",
    "Per leggere un file di testo, basta aprirlo e iterare sulle sue righe. Su ciascuna riga si può operare come si ritiene più opportuno."
   ]
  },
  {
   "cell_type": "code",
   "execution_count": null,
   "metadata": {
    "collapsed": false
   },
   "outputs": [],
   "source": [
    "doc = open('train.csv', 'r')\n",
    "for row in doc:\n",
    "    print(row)"
   ]
  },
  {
   "cell_type": "code",
   "execution_count": null,
   "metadata": {
    "collapsed": false
   },
   "outputs": [],
   "source": [
    "doc = open('train.csv', 'r')\n",
    "for row in doc:\n",
    "    print(row.split(','))"
   ]
  },
  {
   "cell_type": "code",
   "execution_count": null,
   "metadata": {
    "collapsed": false
   },
   "outputs": [],
   "source": [
    "doc = open('train.csv', 'r')\n",
    "header = doc.readline()\n",
    "for row in doc:\n",
    "    print(row.replace('\\n', '').replace('\"','').split(',')[4])"
   ]
  },
  {
   "cell_type": "code",
   "execution_count": null,
   "metadata": {
    "collapsed": false
   },
   "outputs": [],
   "source": [
    "doc = open('train.csv', 'r')\n",
    "header = doc.readline()\n",
    "fortunati = 0\n",
    "for row in doc:    \n",
    "    record = row.replace('\\n', '').replace('\"','').split(',')\n",
    "    if int(record[1]) == 1:\n",
    "        fortunati += 1\n",
    "print(fortunati)"
   ]
  },
  {
   "cell_type": "code",
   "execution_count": null,
   "metadata": {
    "collapsed": true
   },
   "outputs": [],
   "source": []
  }
 ],
 "metadata": {
  "kernelspec": {
   "display_name": "Python [default]",
   "language": "python",
   "name": "python3"
  },
  "language_info": {
   "codemirror_mode": {
    "name": "ipython",
    "version": 3
   },
   "file_extension": ".py",
   "mimetype": "text/x-python",
   "name": "python",
   "nbconvert_exporter": "python",
   "pygments_lexer": "ipython3",
   "version": "3.5.2"
  }
 },
 "nbformat": 4,
 "nbformat_minor": 0
}
