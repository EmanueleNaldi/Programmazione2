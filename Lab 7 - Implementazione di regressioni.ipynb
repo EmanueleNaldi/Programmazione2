{
 "cells": [
  {
   "cell_type": "markdown",
   "metadata": {},
   "source": [
    "# Generazione data set sintetico"
   ]
  },
  {
   "cell_type": "code",
   "execution_count": 1,
   "metadata": {
    "collapsed": true
   },
   "outputs": [],
   "source": [
    "# Vari import da usare\n",
    "import numpy as np\n",
    "import matplotlib.pyplot as plt\n",
    "\n",
    "# Supporto per operazioni tra matrici e vettori\n",
    "from numpy import matmul\n",
    "from numpy import transpose\n",
    "from numpy.linalg import inv\n",
    "from numpy.linalg import pinv"
   ]
  },
  {
   "cell_type": "code",
   "execution_count": 2,
   "metadata": {
    "collapsed": true
   },
   "outputs": [],
   "source": [
    "def MakeSyntethicData(n=100, ifplot=False):\n",
    "    np.random.seed(13)\n",
    "    x1 = np.random.normal(2, 0.8, n)\n",
    "    y1 = np.random.normal(6, 0.8, n)    \n",
    "    \n",
    "    m = 20\n",
    "    x2 = np.random.normal(4, 0.5, max(n, n-m))\n",
    "    y2 = np.random.normal(3, 0.5, max(n, n-m))\n",
    "\n",
    "    if n > m:\n",
    "        x2 = np.append(x2, np.random.normal(10, 0.5, 20))\n",
    "        y2 = np.append(y2, np.random.normal(0, 0.5, 20))\n",
    "\n",
    "    # Return data    \n",
    "    X = []\n",
    "    Y = []\n",
    "    for x,y in zip(x1,y1):\n",
    "        X.append((x,y))\n",
    "        Y.append(0)  # 0 = blue\n",
    "\n",
    "    for x,y in zip(x2,y2):\n",
    "        X.append((x,y))\n",
    "        Y.append(1)  # 1 = red\n",
    "\n",
    "    if ifplot:\n",
    "        fig, ax = plt.subplots(figsize=(7, 7))\n",
    "        ax.scatter(x1, y1, alpha=0.5, c='blue')\n",
    "        ax.scatter(x2, y2, alpha=0.5, c='red')\n",
    "        ax.legend(('Blue=0', 'Red=1'))\n",
    "        plt.show()\n",
    "        \n",
    "    return X, Y"
   ]
  },
  {
   "cell_type": "code",
   "execution_count": 3,
   "metadata": {
    "collapsed": false
   },
   "outputs": [
    {
     "data": {
      "image/png": "[encoded data removed]",
      "text/plain": [
       "<matplotlib.figure.Figure at 0x1ca45c14630>"
      ]
     },
     "metadata": {},
     "output_type": "display_data"
    }
   ],
   "source": [
    "X,Y = MakeSyntethicData(100, True)"
   ]
  },
  {
   "cell_type": "markdown",
   "metadata": {},
   "source": [
    "# Esercizio 1: Regressione Lineare\n",
    "Si usino le [slide usate a lezione](http://www-dimat.unipv.it/~gualandi/programmazione2/slide_regressioni.pdf). \n",
    "\n",
    "Confrontare i coefficienti $w$ trovati dalla vostra soluzione con quelli che trova la classe `LinearRegression` della libreria `Scikit Learn`."
   ]
  },
  {
   "cell_type": "code",
   "execution_count": 4,
   "metadata": {
    "collapsed": true
   },
   "outputs": [],
   "source": [
    "class RegressioneLineare(object):\n",
    "    def fit(self, x, y):\n",
    "        # DA COMPLETARE: SOLUZIONE EQUAZIONE NORMALE\n",
    "        pass\n",
    "    \n",
    "    def predict(self, x):\n",
    "        # DA COMPLETARE: USARE I PARAMETRI w\n",
    "        pass"
   ]
  },
  {
   "cell_type": "markdown",
   "metadata": {},
   "source": [
    "# Esercizio 2: Regressione Logistica\n",
    "Si usino le [slide usate a lezione](http://www-dimat.unipv.it/~gualandi/programmazione2/slide_regressioni.pdf).\n",
    "\n",
    "Confrontare i coefficienti $w$ trovati dalla vostra soluzione con quelli che trova la classe `LinearRegression` della libreria `Scikit Learn`."
   ]
  },
  {
   "cell_type": "code",
   "execution_count": 5,
   "metadata": {
    "collapsed": true
   },
   "outputs": [],
   "source": [
    "class RegressioneLogistica(object):\n",
    "    def fit(self, x, y):\n",
    "        # DA COMPLETARE: METODO DI NEWTON RAPHSON SULLE SLIDES\n",
    "        pass\n",
    "    \n",
    "    def predict(self, x):\n",
    "        # DA COMPLETARE: USARE I PARAMETRI w\n",
    "        pass"
   ]
  },
  {
   "cell_type": "code",
   "execution_count": null,
   "metadata": {
    "collapsed": true
   },
   "outputs": [],
   "source": []
  }
 ],
 "metadata": {
  "kernelspec": {
   "display_name": "Python [default]",
   "language": "python",
   "name": "python3"
  },
  "language_info": {
   "codemirror_mode": {
    "name": "ipython",
    "version": 3
   },
   "file_extension": ".py",
   "mimetype": "text/x-python",
   "name": "python",
   "nbconvert_exporter": "python",
   "pygments_lexer": "ipython3",
   "version": "3.5.2"
  }
 },
 "nbformat": 4,
 "nbformat_minor": 2
}
