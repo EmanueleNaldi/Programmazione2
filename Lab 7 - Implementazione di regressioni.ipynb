{
 "cells": [
  {
   "cell_type": "markdown",
   "metadata": {},
   "source": [
    "# Generazione data set sintetico"
   ]
  },
  {
   "cell_type": "code",
   "execution_count": 1,
   "metadata": {
    "collapsed": true
   },
   "outputs": [],
   "source": [
    "# Vari import da usare\n",
    "import numpy as np\n",
    "import matplotlib.pyplot as plt\n",
    "\n",
    "# Supporto per operazioni tra matrici e vettori\n",
    "from numpy import matmul\n",
    "from numpy import transpose\n",
    "from numpy.linalg import inv\n",
    "from numpy.linalg import pinv"
   ]
  },
  {
   "cell_type": "code",
   "execution_count": 2,
   "metadata": {
    "collapsed": true
   },
   "outputs": [],
   "source": [
    "def MakeSyntethicData(n=100, ifplot=False):\n",
    "    \"\"\" Restituisce una matrice X di 2 covariate e n righe,\n",
    "        e il vettore Y di n righe con le rispettive label.\n",
    "        Se ifplot=True fa uno scatter plot nel piano delle covariate \"\"\"\n",
    "    \n",
    "    # Prima genero il campione di covariate per i punti classificati \"blue\"\n",
    "    np.random.seed(13)\n",
    "    x1_blue = np.random.normal(2, 0.8, n)\n",
    "    x2_blue = np.random.normal(6, 0.8, n)    \n",
    "\n",
    "    # Poi genero il campione di covariate per i punti classificati \"rossi\"\n",
    "    # in modo che sia estratti da due distribuzioni diverse\n",
    "    m = 20\n",
    "    x1_red = np.random.normal(4, 0.5, max(n, n-m))\n",
    "    x2_red = np.random.normal(3, 0.5, max(n, n-m))\n",
    "    if n > m:\n",
    "        x1_red = np.append(x1_red, np.random.normal(10, 0.5, 20))\n",
    "        x2_red = np.append(x2_red, np.random.normal(0, 0.5, 20))\n",
    "\n",
    "    if ifplot:\n",
    "        fig, ax = plt.subplots(figsize=(7, 7))\n",
    "        ax.scatter(x1_blue, x2_blue, alpha=0.5, c='blue')\n",
    "        ax.scatter(x1_red, x2_red, alpha=0.5, c='red')\n",
    "        ax.set_xlabel('Covariata x1')\n",
    "        ax.set_ylabel('Covariata x2')\n",
    "        ax.legend(('Blue=0', 'Red=1'))\n",
    "        plt.show()\n",
    "\n",
    "    # Prepara la matrice delle covariate X e il vettore di label Y    \n",
    "    X = []\n",
    "    Y = []\n",
    "    # Documentazione per la funzione zip()\n",
    "    # https://docs.python.org/3.6/library/functions.html#zip\n",
    "    for x,y in zip(x1_blue,x2_blue):\n",
    "        X.append((x,y))\n",
    "        Y.append(0)  # 0 = blue\n",
    "\n",
    "    for x,y in zip(x1_red,x2_red):\n",
    "        X.append((x,y))\n",
    "        Y.append(1)  # 1 = red\n",
    "  \n",
    "    return X, Y"
   ]
  },
  {
   "cell_type": "code",
   "execution_count": 3,
   "metadata": {
    "collapsed": false
   },
   "outputs": [
    {
     "data": {
      "image/png": "[encoded data removed]",
      "text/plain": [
       "<matplotlib.figure.Figure at 0x23d8dfc62e8>"
      ]
     },
     "metadata": {},
     "output_type": "display_data"
    }
   ],
   "source": [
    "X,Y = MakeSyntethicData(100, True)"
   ]
  },
  {
   "cell_type": "markdown",
   "metadata": {},
   "source": [
    "# Esercizio 1: Regressione Lineare\n",
    "Si usino le [slide usate a lezione](http://www-dimat.unipv.it/~gualandi/programmazione2/slide_regressioni.pdf). \n",
    "\n",
    "Confrontare i coefficienti $w$ trovati dalla vostra soluzione con quelli che trova la classe `LinearRegression` della libreria `Scikit Learn`."
   ]
  },
  {
   "cell_type": "code",
   "execution_count": 4,
   "metadata": {
    "collapsed": true
   },
   "outputs": [],
   "source": [
    "class RegressioneLineare(object):\n",
    "    def fit(self, x, y):\n",
    "        # Build the matrix with vector (1, x) as rows\n",
    "        X = np.matrix(list(map(lambda row: np.append([1], row), x)))\n",
    "        # Solve the normal equation (what if X is not invertible?)\n",
    "        self.w = matmul(matmul(inv(matmul(transpose(X), X)), transpose(X)), y)\n",
    "                \n",
    "    def predict(self, x):\n",
    "        # Build the matrix with vector (1, x) as rows\n",
    "        X = np.matrix(list(map(lambda row: np.append([1], row), x)))\n",
    "        # Predict values        \n",
    "        return matmul(transpose(X), self.w)"
   ]
  },
  {
   "cell_type": "code",
   "execution_count": 5,
   "metadata": {
    "collapsed": false
   },
   "outputs": [
    {
     "name": "stdout",
     "output_type": "stream",
     "text": [
      "Scikit LinearRegression, pesi trovati: 2.03773968679 [-0.07912421 -0.29747821]\n",
      "My Regressione lineare, pesi trovati: [[ 2.03773969 -0.07912421 -0.29747821]]\n"
     ]
    }
   ],
   "source": [
    "from sklearn.linear_model import LinearRegression    \n",
    "\n",
    "lr = LinearRegression(normalize=False)\n",
    "lr.fit(X, Y)\n",
    "print('Scikit LinearRegression, pesi trovati:', lr.intercept_, lr.coef_)\n",
    "\n",
    "my = RegressioneLineare()\n",
    "my.fit(X,Y)\n",
    "print('My Regressione lineare, pesi trovati:', my.w)\n"
   ]
  },
  {
   "cell_type": "markdown",
   "metadata": {},
   "source": [
    "# Esercizio 2: Regressione Logistica\n",
    "Si usino le [slide usate a lezione](http://www-dimat.unipv.it/~gualandi/programmazione2/slide_regressioni.pdf).\n",
    "\n",
    "Confrontare i coefficienti $w$ trovati dalla vostra soluzione con quelli che trova la classe `LinearRegression` della libreria `Scikit Learn`."
   ]
  },
  {
   "cell_type": "code",
   "execution_count": 6,
   "metadata": {
    "collapsed": true
   },
   "outputs": [],
   "source": [
    "class RegressioneLogistica(object):\n",
    "    def fit(self, x, y):\n",
    "        # DA COMPLETARE: METODO DI NEWTON RAPHSON SULLE SLIDES\n",
    "        pass\n",
    "    \n",
    "    def predict(self, x):\n",
    "        # DA COMPLETARE: USARE I PARAMETRI w\n",
    "        pass"
   ]
  },
  {
   "cell_type": "code",
   "execution_count": null,
   "metadata": {
    "collapsed": true
   },
   "outputs": [],
   "source": []
  }
 ],
 "metadata": {
  "kernelspec": {
   "display_name": "Python [default]",
   "language": "python",
   "name": "python3"
  },
  "language_info": {
   "codemirror_mode": {
    "name": "ipython",
    "version": 3
   },
   "file_extension": ".py",
   "mimetype": "text/x-python",
   "name": "python",
   "nbconvert_exporter": "python",
   "pygments_lexer": "ipython3",
   "version": "3.5.2"
  }
 },
 "nbformat": 4,
 "nbformat_minor": 2
}
