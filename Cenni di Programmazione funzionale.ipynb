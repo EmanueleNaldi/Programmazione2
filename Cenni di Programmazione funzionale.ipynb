{
 "cells": [
  {
   "cell_type": "markdown",
   "metadata": {},
   "source": [
    "# Elementi a supporto della *Programmazione funzionale*\n",
    "Prima di introdurre formalmente i concetti di programmazione funzionale, vediamo di seguito quelli che sono gli strumenti più usati per programmare con uno stile elegante, preciso e conciso.\n",
    "\n",
    "## Lambda Expressions\n",
    "\n",
    "Il primo elemento sono le **lambda expressions**, chiamate anche **anonymous function**. La loro forma generale è del tipo:\n",
    "\n",
    "<p><center>`lambda <sequenza di nomi di variabili>: <espressione>`</center></p>\n",
    "\n",
    "Dove **lambda** è una parola riservata (keyword) di Python. Le lambda expressions sono usate soprattutto quando si devono passare delle funzioni come parametri ad altre funzioni.\n",
    "\n",
    "**ESEMPIO:**"
   ]
  },
  {
   "cell_type": "code",
   "execution_count": 1,
   "metadata": {
    "collapsed": false
   },
   "outputs": [
    {
     "data": {
      "text/plain": [
       "True"
      ]
     },
     "execution_count": 1,
     "metadata": {},
     "output_type": "execute_result"
    }
   ],
   "source": [
    "# Due modi diversi per definire la stessa funzione:\n",
    "# Primo: metodo standard, funzione di nome F1\n",
    "def F1(x):\n",
    "    return x**2\n",
    "\n",
    "# Secondo: lambda expression a cui si assegna un nome\n",
    "F2 = lambda x: x**2\n",
    "\n",
    "F1(3.3) == F2(3.3)"
   ]
  },
  {
   "cell_type": "code",
   "execution_count": 2,
   "metadata": {
    "collapsed": false
   },
   "outputs": [
    {
     "data": {
      "text/plain": [
       "5"
      ]
     },
     "execution_count": 2,
     "metadata": {},
     "output_type": "execute_result"
    }
   ],
   "source": [
    "(lambda x,y: x+y)(2,3)"
   ]
  },
  {
   "cell_type": "markdown",
   "metadata": {},
   "source": [
    "## Funzione `map`\n",
    "La funzione `map` è la prima di una **triade** di funzioni molto importanti. Le altre due sono `filter` e `reduce`.\n",
    "\n",
    "La funzione `map` è una funzione che prende in input come primo argomento una funzione di $n$ argomenti e viene poi seguita da $n$ collezioni iterabili della stessa lunghezza (come ad esempio $n$ liste); restituisce in output un **map object**:\n",
    "\n",
    "<p><center>`map(func, *iterables) --> map object`</center></p>\n",
    "\n",
    "Per ottenere il risultato bisogna iterare sugli elementi del *map object*, per esemepio costruendo una lista con la funzione `list()`. Di solito la funzione data come prima argomento prende un solo argomento in input e la funzione viene quindi usata con una sola lista di input. La funzione `map` è una delle builtins di Python.\n",
    "\n",
    "**ESEMPIO 1**: Per calcolare il quadrato di una lista di numeri:"
   ]
  },
  {
   "cell_type": "code",
   "execution_count": 12,
   "metadata": {
    "collapsed": false
   },
   "outputs": [
    {
     "data": {
      "text/plain": [
       "[1, 4, 9, 16, 25, 36, 49, 64, 81, 100]"
      ]
     },
     "execution_count": 12,
     "metadata": {},
     "output_type": "execute_result"
    }
   ],
   "source": [
    "list(map(lambda x: x**2, [1,2,3,4,5,6,7,8,9,10]))"
   ]
  },
  {
   "cell_type": "markdown",
   "metadata": {},
   "source": [
    "Si osservi che la funzione `map` ha passato alla funzione `list` un `map object` con cui ha costruito la lista data visualizzata in output."
   ]
  },
  {
   "cell_type": "markdown",
   "metadata": {},
   "source": [
    "**ESEMPIO 2**: Per calcolare il prodotto elemento per elemento di due vettori:"
   ]
  },
  {
   "cell_type": "code",
   "execution_count": 7,
   "metadata": {
    "collapsed": false
   },
   "outputs": [
    {
     "data": {
      "text/plain": [
       "[9, 16, 21, 24, 25, 24, 21, 16, 9]"
      ]
     },
     "execution_count": 7,
     "metadata": {},
     "output_type": "execute_result"
    }
   ],
   "source": [
    "list(map(lambda x, y: x*y, [1,2,3,4,5,6,7,8,9], [9,8,7,6,5,4,3,2,1]))"
   ]
  },
  {
   "cell_type": "markdown",
   "metadata": {},
   "source": [
    "**ESERCIZIO**: Scrivere un'espression che calcoli il quadrato delle differenze elemento per elemento di due \"vettori\" dati, ovvero:\n",
    "$$\\sum_{i = 1,..,n} (x_i-y_i)^2, \\quad x,y \\in \\mathbb{R}^n$$\n",
    "\n",
    "Usare nell'espressione le due liste $[1,2,3,4,5,6,7,8,9]$ e $[9,8,7,6,5,4,3,2,1]$."
   ]
  },
  {
   "cell_type": "code",
   "execution_count": 9,
   "metadata": {
    "collapsed": false
   },
   "outputs": [
    {
     "data": {
      "text/plain": [
       "[64, 36, 16, 4, 0, 4, 16, 36, 64]"
      ]
     },
     "execution_count": 9,
     "metadata": {},
     "output_type": "execute_result"
    }
   ],
   "source": [
    "list(map(lambda x,y: (x-y)**2, [1,2,3,4,5,6,7,8,9], [9,8,7,6,5,4,3,2,1]))"
   ]
  },
  {
   "cell_type": "markdown",
   "metadata": {},
   "source": [
    "## Funzione `filter`\n",
    "La funzione `filter` letteralmente \"filtra\" gli elementi: prende in input un **predicato** (ovvero una funzione booleana, che restituisce `True` o `False`) e una sequenza *iterabile* di elementi, e restituisce in output un `filter object` su cui iterando si ottiene la sequenza di elementi per cui il predicato è verificato (pari a `True`): \n",
    "\n",
    "<p><center>`filter(function or None, iterable) --> filter object`</center></p>\n",
    "\n",
    "La funzione **filter** è una delle builtins di Python.\n",
    "\n",
    "**ESEMPIO 3**: Filtrare i numeri pari di una lista data."
   ]
  },
  {
   "cell_type": "code",
   "execution_count": 15,
   "metadata": {
    "collapsed": false
   },
   "outputs": [
    {
     "data": {
      "text/plain": [
       "[2, 4, 6, 8]"
      ]
     },
     "execution_count": 15,
     "metadata": {},
     "output_type": "execute_result"
    }
   ],
   "source": [
    "list(filter(lambda x: x%2 == 0, {1,2,3,4,5,6,7,8,9}))"
   ]
  },
  {
   "cell_type": "markdown",
   "metadata": {},
   "source": [
    "**ESERCIZIO**: Calcolare il quadrato dei numeri dispari di una lista data. Suggerimento: utilizzare sia `map` che `filter`."
   ]
  },
  {
   "cell_type": "code",
   "execution_count": 16,
   "metadata": {
    "collapsed": false
   },
   "outputs": [
    {
     "data": {
      "text/plain": [
       "[1, 9, 25, 49, 81]"
      ]
     },
     "execution_count": 16,
     "metadata": {},
     "output_type": "execute_result"
    }
   ],
   "source": [
    "list(map(lambda x: x**2, filter(lambda y: y % 2 == 1, [1,2,3,4,5,6,7,8,9])))"
   ]
  },
  {
   "cell_type": "markdown",
   "metadata": {},
   "source": [
    "## Funzione `reduce`\n",
    "La funzione `reduce` letteralmente \"riduce\" una sequenza di elementi ad uno scalare. In [programmazione funzionale](https://wiki.haskell.org/Fold) viene chiamata anche `fold`. La funzione reduce prende in input una funzione, chiamata \"combinante\", una sequenza iterabile di elementi e un valore iniziale (facoltativo). In output viene restituito un valore che risulta dall'applicare in sequenza agli elementi della lista la funzioen data:\n",
    "\n",
    "<p><center>`reduce(function, sequence[, initial]) -> value`</center></p>\n",
    "\n",
    "Per esempio, se viene passata in input la funzione `f(x,y)`, la lista `[1,2,3,4]` e il valore iniziale 0, la funzione reduce calcola il valore:\n",
    "\n",
    "$$v = f(f(f(f(0,1), 2), 3), 4)$$\n",
    "\n",
    "Se la funzione data è la somma, questo risulta equivalente a calcolare: \n",
    "\n",
    "$$((((0+1)+2)+3)+4) = 10$$\n",
    "\n",
    "La funzione `reduce` non è una builtin di Python e deve essere importata con il comando:\n",
    "\n",
    "`from functools import reduce`\n",
    "\n",
    "**ESEMPIO 4**: Scrivere il codice per l'esempio precedente"
   ]
  },
  {
   "cell_type": "code",
   "execution_count": 20,
   "metadata": {
    "collapsed": false
   },
   "outputs": [],
   "source": [
    "from functools import reduce"
   ]
  },
  {
   "cell_type": "code",
   "execution_count": 22,
   "metadata": {
    "collapsed": false
   },
   "outputs": [
    {
     "data": {
      "text/plain": [
       "10"
      ]
     },
     "execution_count": 22,
     "metadata": {},
     "output_type": "execute_result"
    }
   ],
   "source": [
    "reduce(lambda x,y: x+y, [1,2,3,4])"
   ]
  },
  {
   "cell_type": "markdown",
   "metadata": {},
   "source": [
    "**ESERCIZIO**: Scrivere una funzione che calcoli la norma di un vettore $\\sqrt{\\sum_{i=1,..,n} x_i^2}$. Suggerimento: la funzione `sqrt` è una funzione della libreria `math` e deve essere importata con ìl comando `from math import sqrt`."
   ]
  },
  {
   "cell_type": "code",
   "execution_count": 30,
   "metadata": {
    "collapsed": false
   },
   "outputs": [],
   "source": [
    "from math import sqrt"
   ]
  },
  {
   "cell_type": "code",
   "execution_count": 31,
   "metadata": {
    "collapsed": false
   },
   "outputs": [
    {
     "data": {
      "text/plain": [
       "5.477225575051661"
      ]
     },
     "execution_count": 31,
     "metadata": {},
     "output_type": "execute_result"
    }
   ],
   "source": [
    "sqrt(reduce(lambda x,y: x+y, map(lambda x: x**2, [1,2,3,4])))"
   ]
  },
  {
   "cell_type": "code",
   "execution_count": 32,
   "metadata": {
    "collapsed": false
   },
   "outputs": [
    {
     "data": {
      "text/plain": [
       "5.477225575051661"
      ]
     },
     "execution_count": 32,
     "metadata": {},
     "output_type": "execute_result"
    }
   ],
   "source": [
    "sqrt(reduce(lambda x,y: x+y**2, [1,2,3,4], 0))"
   ]
  }
 ],
 "metadata": {
  "kernelspec": {
   "display_name": "Python [default]",
   "language": "python",
   "name": "python3"
  },
  "language_info": {
   "codemirror_mode": {
    "name": "ipython",
    "version": 3
   },
   "file_extension": ".py",
   "mimetype": "text/x-python",
   "name": "python",
   "nbconvert_exporter": "python",
   "pygments_lexer": "ipython3",
   "version": "3.5.2"
  }
 },
 "nbformat": 4,
 "nbformat_minor": 0
}
